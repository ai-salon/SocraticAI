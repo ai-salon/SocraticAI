{
 "cells": [
  {
   "cell_type": "code",
   "execution_count": 2,
   "metadata": {},
   "outputs": [
    {
     "name": "stdout",
     "output_type": "stream",
     "text": [
      "The autoreload extension is already loaded. To reload it, use:\n",
      "  %reload_ext autoreload\n"
     ]
    }
   ],
   "source": [
    "%load_ext autoreload\n",
    "%autoreload 2\n",
    "import logging\n",
    "import os\n",
    "\n",
    "from SocraticAI.generate.takeaways import run_takeaway_generation\n",
    "from SocraticAI.utils import get_output_path, get_processed_path\n",
    "from SocraticAI.generate.takeaways import run_takeaway_generation\n",
    "logger = logging.getLogger(__name__)"
   ]
  },
  {
   "cell_type": "code",
   "execution_count": 3,
   "metadata": {},
   "outputs": [],
   "source": [
    "file_path = \"/Users/ian/Personal/SocraticAI/data/inputs/2023-08-20 - Salon_Digital Immortality.MP3\"\n"
   ]
  },
  {
   "cell_type": "code",
   "execution_count": 5,
   "metadata": {},
   "outputs": [
    {
     "data": {
      "text/plain": [
       "'/Users/ian/Personal/SocraticAI/SocraticAI/../data/outputs/2023-08-20 - Salon_Digital Immortality_test.md'"
      ]
     },
     "execution_count": 5,
     "metadata": {},
     "output_type": "execute_result"
    }
   ],
   "source": [
    "processed_file_path = get_processed_path(file_path)\n",
    "if not os.path.exists(processed_file_path):\n",
    "    logger.info(\n",
    "        f\"No anonymous processed file found. First transcribe and process file before continuing. Exiting...\"\n",
    "    )\n",
    "else:\n",
    "    logger.info(f\"Processed already. Loading {processed_file_path}...\")\n",
    "    with open(processed_file_path, \"r\") as f:\n",
    "        text = f.read()\n",
    "\n",
    "\n",
    "# create takeaways if they don't exist\n",
    "output_path = get_output_path(file_path, 'test.md')\n",
    "output_path"
   ]
  },
  {
   "cell_type": "code",
   "execution_count": 8,
   "metadata": {},
   "outputs": [],
   "source": [
    "out=run_takeaway_generation(text)"
   ]
  }
 ],
 "metadata": {
  "kernelspec": {
   "display_name": "dev",
   "language": "python",
   "name": "python3"
  },
  "language_info": {
   "codemirror_mode": {
    "name": "ipython",
    "version": 3
   },
   "file_extension": ".py",
   "mimetype": "text/x-python",
   "name": "python",
   "nbconvert_exporter": "python",
   "pygments_lexer": "ipython3",
   "version": "3.11.0"
  }
 },
 "nbformat": 4,
 "nbformat_minor": 2
}
